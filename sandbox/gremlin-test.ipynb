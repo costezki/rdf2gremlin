{
 "cells": [
  {
   "cell_type": "code",
   "execution_count": 69,
   "metadata": {
    "pycharm": {
     "is_executing": false
    }
   },
   "outputs": [],
   "source": [
    "from IPython.core.display import display\n",
    "from gremlin_python import statics\n",
    "from gremlin_python.process.anonymous_traversal import traversal\n",
    "from gremlin_python.process.graph_traversal import __\n",
    "from gremlin_python.structure.graph import Graph, Vertex, Edge, Element\n",
    "from gremlin_python.process.strategies import *\n",
    "from gremlin_python.driver.driver_remote_connection import DriverRemoteConnection\n",
    "from gremlin_python.process.traversal import T\n",
    "from gremlin_python.process.traversal import Order\n",
    "from gremlin_python.process.traversal import Cardinality\n",
    "from gremlin_python.process.traversal import Column\n",
    "from gremlin_python.process.traversal import Direction\n",
    "from gremlin_python.process.traversal import Operator\n",
    "from gremlin_python.process.traversal import P\n",
    "from gremlin_python.process.traversal import Pop\n",
    "from gremlin_python.process.traversal import Scope\n",
    "from gremlin_python.process.traversal import Barrier\n",
    "from gremlin_python.process.traversal import Bindings\n",
    "from gremlin_python.process.traversal import WithOptions\n",
    "\n",
    "from functools import reduce\n",
    "\n",
    "import rdflib\n",
    "import pathlib\n",
    "import jsonpickle"
   ]
  },
  {
   "cell_type": "code",
   "execution_count": 3,
   "metadata": {
    "pycharm": {
     "is_executing": false
    }
   },
   "outputs": [],
   "source": [
    "# try:\n",
    "#     g = traversal().withRemote(DriverRemoteConnection('ws://localhost:8182/gremlin','g'))\n",
    "# except :\n",
    "#     display(\"Run server. Eg: docker run --name gremlin-server -p 8182:8182 tinkerpop/gremlin-server\")\n",
    "\n",
    "    \n",
    "try:    \n",
    "    graph = Graph()\n",
    "    connection = DriverRemoteConnection('ws://localhost:8182/gremlin', 'g')\n",
    "    # The connection should be closed on shut down to close open connections with connection.close()\n",
    "    g = graph.traversal().withRemote(connection)\n",
    "    # Reuse 'g' across the application\n",
    "except :\n",
    "    display(\"Run server. Eg: docker run --rm --name janusgraph-default janusgraph/janusgraph:latest\")"
   ]
  },
  {
   "cell_type": "code",
   "execution_count": 215,
   "metadata": {},
   "outputs": [
    {
     "name": "stdout",
     "output_type": "stream",
     "text": [
      "2697\n"
     ]
    }
   ],
   "source": [
    "# OUTPUT_FILE_LAM_PROPERTIES = pathlib.Path(\"../output/lam_project_properties_v2.ttl\").resolve()\n",
    "# gg = rdflib.Graph()\n",
    "# gg.parse(str(OUTPUT_FILE_LAM_PROPERTIES), format=\"ttl\")\n",
    "# print(\"dfdf\")\n",
    "\n",
    "# for s, p, o in gg:\n",
    "#     # find s in the property graph\n",
    "#     #     existentURIlist = g.V().has(\"iri\",str(s)).id().toList()\n",
    "#     #     if existentURIlist:\n",
    "#     #         v1 = g.V(existentURIlist[0])\n",
    "#     #\n",
    "#     # if o is literal add it as value to key p\n",
    "#     # else create node o and add propoerty to o\n",
    "#     v1 = create_node(g,s,gg)\n",
    "#     v1 = create_node(g,o,gg)\n",
    "#     #v1 = g.addV(s).property('iri',str(s) ).next()\n",
    "#     #v2 = g.addV(o).property('iri',str(o) ).next()\n",
    "#     #     g.V(Bindings.of('id',v1)).addE(p).to(v2).iterate()"
   ]
  },
  {
   "cell_type": "code",
   "execution_count": 141,
   "metadata": {},
   "outputs": [],
   "source": [
    "# g.V().drop().iterate()\n",
    "\n",
    "from pprint import pprint\n",
    "\n",
    "\n",
    "# s = g.V().has('iri','http://publications.europa.eu/resources/authority/celex/md_CODE').union(__.valueMap(), __.out().valueMap().tree()).toList()\n",
    "# pprint(s)\n",
    "\n",
    "# s = g.V().has('iri','http://publications.europa.eu/resources/authority/celex/md_CODE').outE().inV().tree().next()\n",
    "\n",
    "# pprint(s)\n",
    "# pprint( s[\"@value\"][0][\"value\"][\"@value\"][0][\"key\"].label  )\n",
    "# ss = g.V(s[\"@value\"][0][\"key\"]).propertyMap().next()  \n",
    "# print (ss[\"dct:created\"][0].value)\n",
    "\n",
    "\n",
    "# {'@type': 'g:Tree',\n",
    "#  '@value': [{'key': v[309],\n",
    "#              'value': {'@type': 'g:Tree',\n",
    "#                        '@value': [{'key': v[337],\n",
    "#                                    'value': {'@type': 'g:Tree', '@value': []}},\n",
    "#                                   {'key': v[386],\n",
    "#                                    'value': {'@type': 'g:Tree', '@value': []}},\n",
    "#                                   {'key': v[349],\n",
    "#                                    'value': {'@type': 'g:Tree',\n",
    "#                                              '@value': []}}]}}]}\n",
    "\n",
    "\n",
    "def flatten_list_of_dicts(list_of_dicts):\n",
    "    \"\"\"\n",
    "        Flatten the list of dictionaries:\n",
    "        This is an expression for Python 3.5 or greater that merges dictionaries using reduce\n",
    "        Warning: repeating kets will be overwitten.\n",
    "    \"\"\"\n",
    "    return reduce(lambda x, y: {**x, **y}, list_of_dicts, {})\n",
    "\n",
    "\n",
    "def node_properties(node, g):\n",
    "    \"\"\"\n",
    "        return the node propoerties as simple dictionary\n",
    "    \"\"\"\n",
    "    props = g.V(node).propertyMap().next()\n",
    "    # reduction of props to simple dict\n",
    "    props = {key: [e.value for e in props[key]] for key in props }\n",
    "    # deflating the values from lists to simple values if there is a single element provided\n",
    "    return {key: props[key] if len(props[key])>1 else props[key][0] for key in props}\n",
    "    \n",
    "    \n",
    "def expand_tree(tree_dict, g):\n",
    "    \"\"\"\n",
    "        given a tree with a single root node, return the simple dict corresponding to the tree\n",
    "        \n",
    "        expecting a gremlin tree of vertices/edges, for example:\n",
    "        g.V(233).outE().inV().tree().next()\n",
    "    \"\"\"\n",
    "    \n",
    "    if \"@type\" in tree_dict and \"@value\" in tree_dict:        \n",
    "        if not tree_dict[\"@value\"]: \n",
    "            # reached a leaf\n",
    "            return\n",
    "        else:\n",
    "            # iterate the tree nodes on 'key' and their children on 'value'\n",
    "#             expected_list_of_edge_dicts = [expand_tree(kv,g) for kv in tree_dict[\"@value\"]]            \n",
    "            expected_list_of_dicts = [expand_tree(kv,g) for kv in tree_dict[\"@value\"]]            \n",
    "            \n",
    "            # prime if the list of dicts are edges or nodes, nodes have '@id' and '@label' property while edges don't\n",
    "            if expected_list_of_dicts and \"@id\" in expected_list_of_dicts[0]:\n",
    "                # we have a list of node descriptions\n",
    "                return expected_list_of_dicts\n",
    "            else:\n",
    "                # we have a list od edges, which need to be flattened because in the upper step they \n",
    "                # are merged with the data properties of the node\n",
    "                return flatten_list_of_dicts(expected_list_of_dicts)\n",
    "                 \n",
    "    elif \"key\" in tree_dict and \"value\" in tree_dict:\n",
    "        # process edge\n",
    "        if isinstance(tree_dict[\"key\"], Edge):\n",
    "            return {tree_dict[\"key\"].label : expand_tree(tree_dict[\"value\"], g)}\n",
    "        # process node (expand the node propeorties and merge with edges)\n",
    "        elif isinstance(tree_dict[\"key\"], Vertex):            \n",
    "#             props = {k:(v[0].value if v[0] else None) for k,v in props}\n",
    "            props = node_properties(tree_dict[\"key\"],g)\n",
    "            props[\"@id\"] = tree_dict[\"key\"].id\n",
    "            props[\"@label\"] = tree_dict[\"key\"].label\n",
    "            \n",
    "            expected_dict_of_edge_props = expand_tree(tree_dict[\"value\"], g)            \n",
    "            if expected_dict_of_edge_props:\n",
    "                # deflating the values from lists to simple values if there is a single element provided            \n",
    "                expected_dict_of_edge_props = {key: expected_dict_of_edge_props[key] if len(expected_dict_of_edge_props[key])>1 else expected_dict_of_edge_props[key][0] for key in expected_dict_of_edge_props}\n",
    "                return {**props, **expected_dict_of_edge_props}\n",
    "            else:\n",
    "                return props\n",
    "            \n",
    "            \n",
    "        \n"
   ]
  },
  {
   "cell_type": "code",
   "execution_count": 144,
   "metadata": {},
   "outputs": [
    {
     "name": "stdout",
     "output_type": "stream",
     "text": [
      "{'@type': 'g:Tree',\n",
      " '@value': [{'key': v[309],\n",
      "             'value': {'@type': 'g:Tree',\n",
      "                       '@value': [{'key': e[400][309-skos:inScheme->337],\n",
      "                                   'value': {'@type': 'g:Tree',\n",
      "                                             '@value': [{'key': v[337],\n",
      "                                                         'value': {'@type': 'g:Tree',\n",
      "                                                                   '@value': []}}]}},\n",
      "                                  {'key': e[388][309-sh:path->386],\n",
      "                                   'value': {'@type': 'g:Tree',\n",
      "                                             '@value': [{'key': v[386],\n",
      "                                                         'value': {'@type': 'g:Tree',\n",
      "                                                                   '@value': []}}]}},\n",
      "                                  {'key': e[399][309-rdf:type->349],\n",
      "                                   'value': {'@type': 'g:Tree',\n",
      "                                             '@value': [{'key': v[349],\n",
      "                                                         'value': {'@type': 'g:Tree',\n",
      "                                                                   '@value': []}}]}}]}}]}\n",
      "[{'@id': 309,\n",
      "  '@label': 'celexd:md_CODE',\n",
      "  'dct:created': '2019-09-27',\n",
      "  'dct:type': 'data property',\n",
      "  'iri': 'http://publications.europa.eu/resources/authority/celex/md_CODE',\n",
      "  'rdf:type': {'@id': 349,\n",
      "               '@label': 'skos:Concept',\n",
      "               'iri': 'http://www.w3.org/2004/02/skos/core#Concept'},\n",
      "  'sh:path': {'@id': 386,\n",
      "              '@label': 'skos:notation',\n",
      "              'iri': 'http://www.w3.org/2004/02/skos/core#notation'},\n",
      "  'skos:inScheme': {'@id': 337,\n",
      "                    '@label': 'lamd:DocumentProperty',\n",
      "                    'iri': 'http://publications.europa.eu/resources/authority/lam/DocumentProperty',\n",
      "                    'skos:prefLabel': 'Document metadata'},\n",
      "  'skos:notation': 'CODE',\n",
      "  'skos:prefLabel': 'Concept code'}]\n"
     ]
    }
   ],
   "source": [
    "s = g.V().has('iri','http://publications.europa.eu/resources/authority/celex/md_CODE').outE().inV().tree().next()\n",
    "# s = g.V().outE().inV().tree().next()\n",
    "pprint(s)\n",
    "j = expand_tree(s,g)\n",
    "pprint(j)"
   ]
  }
 ],
 "metadata": {
  "kernelspec": {
   "display_name": ".venv",
   "language": "python",
   "name": ".venv"
  },
  "language_info": {
   "codemirror_mode": {
    "name": "ipython",
    "version": 3
   },
   "file_extension": ".py",
   "mimetype": "text/x-python",
   "name": "python",
   "nbconvert_exporter": "python",
   "pygments_lexer": "ipython3",
   "version": "3.7.3"
  },
  "pycharm": {
   "stem_cell": {
    "cell_type": "raw",
    "metadata": {
     "collapsed": false
    },
    "source": []
   }
  }
 },
 "nbformat": 4,
 "nbformat_minor": 4
}
